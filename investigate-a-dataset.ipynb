{
 "cells": [
  {
   "cell_type": "markdown",
   "metadata": {},
   "source": [
    "# Project: Investigate TMDB Movies dataset \n",
    "\n",
    "## Table of Contents\n",
    "<ul>\n",
    "<li><a href=\"#intro\">Introduction</a></li>\n",
    "<li><a href=\"#wrangling\">Data Wrangling</a></li>\n",
    "<li><a href=\"#eda\">Exploratory Data Analysis</a></li>\n",
    "<li><a href=\"#conclusions\">Conclusions</a></li>\n",
    "</ul>"
   ]
  },
  {
   "cell_type": "markdown",
   "metadata": {},
   "source": [
    "<a id='intro'></a>\n",
    "## Introduction"
   ]
  },
  {
   "cell_type": "markdown",
   "metadata": {},
   "source": [
    "### Background\n",
    "\n",
    "What can we say about the success of a movie before it is released? Are there certain companies (Pixar?) that have found a consistent formula? Given that major films costing over $100 million to produce can still flop, this question is more important than ever to the industry. Film aficionados might have different interests. Can we predict which films will be highly rated, whether or not they are a commercial success?\n",
    "\n",
    "This is a great place to start digging in to those questions, with data on the plot, cast, crew, budget, and revenues of several thousand films."
   ]
  },
  {
   "cell_type": "markdown",
   "metadata": {},
   "source": [
    "### Questions to answer\n",
    "<ul>\n",
    "<li><a href=\"#q1\">How many movies are made each year?</a></li>\n",
    "<li><a href=\"#q2\">Which movies are most popular?</a></li>\n",
    "<li><a href=\"#q3\">Which movies have the highest revenue?</a></li>\n",
    "<li><a href=\"#q4\">Which movies have the biggest budget?</a></li>\n",
    "<li><a href=\"#q5\">Who are the most successful directors? Who made the most movies?</a></li>\n",
    "<li><a href=\"#q6\">What is the ideal movie length?</a></li>\n",
    "<li><a href=\"#q7\">What are the most common genres?</a></li>\n",
    "<li><a href=\"#q8\">How many movies did each production company make?</a></li>\n",
    "</ul>"
   ]
  },
  {
   "cell_type": "code",
   "execution_count": 1,
   "metadata": {},
   "outputs": [],
   "source": [
    "import numpy as np\n",
    "import pandas as pd\n",
    "import matplotlib.pyplot as plt\n",
    "%matplotlib inline"
   ]
  },
  {
   "cell_type": "markdown",
   "metadata": {},
   "source": [
    "<a id='wrangling'></a>\n",
    "## Data Wrangling\n",
    "### General Properties"
   ]
  },
  {
   "cell_type": "code",
   "execution_count": 2,
   "metadata": {},
   "outputs": [
    {
     "data": {
      "text/html": [
       "<div>\n",
       "<style scoped>\n",
       "    .dataframe tbody tr th:only-of-type {\n",
       "        vertical-align: middle;\n",
       "    }\n",
       "\n",
       "    .dataframe tbody tr th {\n",
       "        vertical-align: top;\n",
       "    }\n",
       "\n",
       "    .dataframe thead th {\n",
       "        text-align: right;\n",
       "    }\n",
       "</style>\n",
       "<table border=\"1\" class=\"dataframe\">\n",
       "  <thead>\n",
       "    <tr style=\"text-align: right;\">\n",
       "      <th></th>\n",
       "      <th>id</th>\n",
       "      <th>imdb_id</th>\n",
       "      <th>popularity</th>\n",
       "      <th>budget</th>\n",
       "      <th>revenue</th>\n",
       "      <th>original_title</th>\n",
       "      <th>cast</th>\n",
       "      <th>homepage</th>\n",
       "      <th>director</th>\n",
       "      <th>tagline</th>\n",
       "      <th>...</th>\n",
       "      <th>overview</th>\n",
       "      <th>runtime</th>\n",
       "      <th>genres</th>\n",
       "      <th>production_companies</th>\n",
       "      <th>release_date</th>\n",
       "      <th>vote_count</th>\n",
       "      <th>vote_average</th>\n",
       "      <th>release_year</th>\n",
       "      <th>budget_adj</th>\n",
       "      <th>revenue_adj</th>\n",
       "    </tr>\n",
       "  </thead>\n",
       "  <tbody>\n",
       "    <tr>\n",
       "      <th>0</th>\n",
       "      <td>135397</td>\n",
       "      <td>tt0369610</td>\n",
       "      <td>32.985763</td>\n",
       "      <td>150000000</td>\n",
       "      <td>1513528810</td>\n",
       "      <td>Jurassic World</td>\n",
       "      <td>Chris Pratt|Bryce Dallas Howard|Irrfan Khan|Vi...</td>\n",
       "      <td>http://www.jurassicworld.com/</td>\n",
       "      <td>Colin Trevorrow</td>\n",
       "      <td>The park is open.</td>\n",
       "      <td>...</td>\n",
       "      <td>Twenty-two years after the events of Jurassic ...</td>\n",
       "      <td>124</td>\n",
       "      <td>Action|Adventure|Science Fiction|Thriller</td>\n",
       "      <td>Universal Studios|Amblin Entertainment|Legenda...</td>\n",
       "      <td>6/9/15</td>\n",
       "      <td>5562</td>\n",
       "      <td>6.5</td>\n",
       "      <td>2015</td>\n",
       "      <td>1.379999e+08</td>\n",
       "      <td>1.392446e+09</td>\n",
       "    </tr>\n",
       "    <tr>\n",
       "      <th>1</th>\n",
       "      <td>76341</td>\n",
       "      <td>tt1392190</td>\n",
       "      <td>28.419936</td>\n",
       "      <td>150000000</td>\n",
       "      <td>378436354</td>\n",
       "      <td>Mad Max: Fury Road</td>\n",
       "      <td>Tom Hardy|Charlize Theron|Hugh Keays-Byrne|Nic...</td>\n",
       "      <td>http://www.madmaxmovie.com/</td>\n",
       "      <td>George Miller</td>\n",
       "      <td>What a Lovely Day.</td>\n",
       "      <td>...</td>\n",
       "      <td>An apocalyptic story set in the furthest reach...</td>\n",
       "      <td>120</td>\n",
       "      <td>Action|Adventure|Science Fiction|Thriller</td>\n",
       "      <td>Village Roadshow Pictures|Kennedy Miller Produ...</td>\n",
       "      <td>5/13/15</td>\n",
       "      <td>6185</td>\n",
       "      <td>7.1</td>\n",
       "      <td>2015</td>\n",
       "      <td>1.379999e+08</td>\n",
       "      <td>3.481613e+08</td>\n",
       "    </tr>\n",
       "    <tr>\n",
       "      <th>2</th>\n",
       "      <td>262500</td>\n",
       "      <td>tt2908446</td>\n",
       "      <td>13.112507</td>\n",
       "      <td>110000000</td>\n",
       "      <td>295238201</td>\n",
       "      <td>Insurgent</td>\n",
       "      <td>Shailene Woodley|Theo James|Kate Winslet|Ansel...</td>\n",
       "      <td>http://www.thedivergentseries.movie/#insurgent</td>\n",
       "      <td>Robert Schwentke</td>\n",
       "      <td>One Choice Can Destroy You</td>\n",
       "      <td>...</td>\n",
       "      <td>Beatrice Prior must confront her inner demons ...</td>\n",
       "      <td>119</td>\n",
       "      <td>Adventure|Science Fiction|Thriller</td>\n",
       "      <td>Summit Entertainment|Mandeville Films|Red Wago...</td>\n",
       "      <td>3/18/15</td>\n",
       "      <td>2480</td>\n",
       "      <td>6.3</td>\n",
       "      <td>2015</td>\n",
       "      <td>1.012000e+08</td>\n",
       "      <td>2.716190e+08</td>\n",
       "    </tr>\n",
       "    <tr>\n",
       "      <th>3</th>\n",
       "      <td>140607</td>\n",
       "      <td>tt2488496</td>\n",
       "      <td>11.173104</td>\n",
       "      <td>200000000</td>\n",
       "      <td>2068178225</td>\n",
       "      <td>Star Wars: The Force Awakens</td>\n",
       "      <td>Harrison Ford|Mark Hamill|Carrie Fisher|Adam D...</td>\n",
       "      <td>http://www.starwars.com/films/star-wars-episod...</td>\n",
       "      <td>J.J. Abrams</td>\n",
       "      <td>Every generation has a story.</td>\n",
       "      <td>...</td>\n",
       "      <td>Thirty years after defeating the Galactic Empi...</td>\n",
       "      <td>136</td>\n",
       "      <td>Action|Adventure|Science Fiction|Fantasy</td>\n",
       "      <td>Lucasfilm|Truenorth Productions|Bad Robot</td>\n",
       "      <td>12/15/15</td>\n",
       "      <td>5292</td>\n",
       "      <td>7.5</td>\n",
       "      <td>2015</td>\n",
       "      <td>1.839999e+08</td>\n",
       "      <td>1.902723e+09</td>\n",
       "    </tr>\n",
       "    <tr>\n",
       "      <th>4</th>\n",
       "      <td>168259</td>\n",
       "      <td>tt2820852</td>\n",
       "      <td>9.335014</td>\n",
       "      <td>190000000</td>\n",
       "      <td>1506249360</td>\n",
       "      <td>Furious 7</td>\n",
       "      <td>Vin Diesel|Paul Walker|Jason Statham|Michelle ...</td>\n",
       "      <td>http://www.furious7.com/</td>\n",
       "      <td>James Wan</td>\n",
       "      <td>Vengeance Hits Home</td>\n",
       "      <td>...</td>\n",
       "      <td>Deckard Shaw seeks revenge against Dominic Tor...</td>\n",
       "      <td>137</td>\n",
       "      <td>Action|Crime|Thriller</td>\n",
       "      <td>Universal Pictures|Original Film|Media Rights ...</td>\n",
       "      <td>4/1/15</td>\n",
       "      <td>2947</td>\n",
       "      <td>7.3</td>\n",
       "      <td>2015</td>\n",
       "      <td>1.747999e+08</td>\n",
       "      <td>1.385749e+09</td>\n",
       "    </tr>\n",
       "  </tbody>\n",
       "</table>\n",
       "<p>5 rows × 21 columns</p>\n",
       "</div>"
      ],
      "text/plain": [
       "       id    imdb_id  popularity     budget     revenue  \\\n",
       "0  135397  tt0369610   32.985763  150000000  1513528810   \n",
       "1   76341  tt1392190   28.419936  150000000   378436354   \n",
       "2  262500  tt2908446   13.112507  110000000   295238201   \n",
       "3  140607  tt2488496   11.173104  200000000  2068178225   \n",
       "4  168259  tt2820852    9.335014  190000000  1506249360   \n",
       "\n",
       "                 original_title  \\\n",
       "0                Jurassic World   \n",
       "1            Mad Max: Fury Road   \n",
       "2                     Insurgent   \n",
       "3  Star Wars: The Force Awakens   \n",
       "4                     Furious 7   \n",
       "\n",
       "                                                cast  \\\n",
       "0  Chris Pratt|Bryce Dallas Howard|Irrfan Khan|Vi...   \n",
       "1  Tom Hardy|Charlize Theron|Hugh Keays-Byrne|Nic...   \n",
       "2  Shailene Woodley|Theo James|Kate Winslet|Ansel...   \n",
       "3  Harrison Ford|Mark Hamill|Carrie Fisher|Adam D...   \n",
       "4  Vin Diesel|Paul Walker|Jason Statham|Michelle ...   \n",
       "\n",
       "                                            homepage          director  \\\n",
       "0                      http://www.jurassicworld.com/   Colin Trevorrow   \n",
       "1                        http://www.madmaxmovie.com/     George Miller   \n",
       "2     http://www.thedivergentseries.movie/#insurgent  Robert Schwentke   \n",
       "3  http://www.starwars.com/films/star-wars-episod...       J.J. Abrams   \n",
       "4                           http://www.furious7.com/         James Wan   \n",
       "\n",
       "                         tagline  ...  \\\n",
       "0              The park is open.  ...   \n",
       "1             What a Lovely Day.  ...   \n",
       "2     One Choice Can Destroy You  ...   \n",
       "3  Every generation has a story.  ...   \n",
       "4            Vengeance Hits Home  ...   \n",
       "\n",
       "                                            overview runtime  \\\n",
       "0  Twenty-two years after the events of Jurassic ...     124   \n",
       "1  An apocalyptic story set in the furthest reach...     120   \n",
       "2  Beatrice Prior must confront her inner demons ...     119   \n",
       "3  Thirty years after defeating the Galactic Empi...     136   \n",
       "4  Deckard Shaw seeks revenge against Dominic Tor...     137   \n",
       "\n",
       "                                      genres  \\\n",
       "0  Action|Adventure|Science Fiction|Thriller   \n",
       "1  Action|Adventure|Science Fiction|Thriller   \n",
       "2         Adventure|Science Fiction|Thriller   \n",
       "3   Action|Adventure|Science Fiction|Fantasy   \n",
       "4                      Action|Crime|Thriller   \n",
       "\n",
       "                                production_companies release_date vote_count  \\\n",
       "0  Universal Studios|Amblin Entertainment|Legenda...       6/9/15       5562   \n",
       "1  Village Roadshow Pictures|Kennedy Miller Produ...      5/13/15       6185   \n",
       "2  Summit Entertainment|Mandeville Films|Red Wago...      3/18/15       2480   \n",
       "3          Lucasfilm|Truenorth Productions|Bad Robot     12/15/15       5292   \n",
       "4  Universal Pictures|Original Film|Media Rights ...       4/1/15       2947   \n",
       "\n",
       "   vote_average  release_year    budget_adj   revenue_adj  \n",
       "0           6.5          2015  1.379999e+08  1.392446e+09  \n",
       "1           7.1          2015  1.379999e+08  3.481613e+08  \n",
       "2           6.3          2015  1.012000e+08  2.716190e+08  \n",
       "3           7.5          2015  1.839999e+08  1.902723e+09  \n",
       "4           7.3          2015  1.747999e+08  1.385749e+09  \n",
       "\n",
       "[5 rows x 21 columns]"
      ]
     },
     "execution_count": 2,
     "metadata": {},
     "output_type": "execute_result"
    }
   ],
   "source": [
    "df = pd.read_csv('tmdb-movies.csv')\n",
    "df.head()"
   ]
  },
  {
   "cell_type": "markdown",
   "metadata": {},
   "source": [
    "The shape of our dataset"
   ]
  },
  {
   "cell_type": "code",
   "execution_count": 3,
   "metadata": {},
   "outputs": [
    {
     "data": {
      "text/plain": [
       "(10866, 21)"
      ]
     },
     "execution_count": 3,
     "metadata": {},
     "output_type": "execute_result"
    }
   ],
   "source": [
    "df.shape"
   ]
  },
  {
   "cell_type": "markdown",
   "metadata": {},
   "source": [
    "We see the datatypes and any missing values of every column in the next code cell"
   ]
  },
  {
   "cell_type": "code",
   "execution_count": 4,
   "metadata": {},
   "outputs": [
    {
     "name": "stdout",
     "output_type": "stream",
     "text": [
      "<class 'pandas.core.frame.DataFrame'>\n",
      "RangeIndex: 10866 entries, 0 to 10865\n",
      "Data columns (total 21 columns):\n",
      " #   Column                Non-Null Count  Dtype  \n",
      "---  ------                --------------  -----  \n",
      " 0   id                    10866 non-null  int64  \n",
      " 1   imdb_id               10856 non-null  object \n",
      " 2   popularity            10866 non-null  float64\n",
      " 3   budget                10866 non-null  int64  \n",
      " 4   revenue               10866 non-null  int64  \n",
      " 5   original_title        10866 non-null  object \n",
      " 6   cast                  10790 non-null  object \n",
      " 7   homepage              2936 non-null   object \n",
      " 8   director              10822 non-null  object \n",
      " 9   tagline               8042 non-null   object \n",
      " 10  keywords              9373 non-null   object \n",
      " 11  overview              10862 non-null  object \n",
      " 12  runtime               10866 non-null  int64  \n",
      " 13  genres                10843 non-null  object \n",
      " 14  production_companies  9836 non-null   object \n",
      " 15  release_date          10866 non-null  object \n",
      " 16  vote_count            10866 non-null  int64  \n",
      " 17  vote_average          10866 non-null  float64\n",
      " 18  release_year          10866 non-null  int64  \n",
      " 19  budget_adj            10866 non-null  float64\n",
      " 20  revenue_adj           10866 non-null  float64\n",
      "dtypes: float64(4), int64(6), object(11)\n",
      "memory usage: 1.7+ MB\n"
     ]
    }
   ],
   "source": [
    "df.info()"
   ]
  },
  {
   "cell_type": "markdown",
   "metadata": {},
   "source": [
    "**Remarks**\n",
    "- We notice that `release_date` is of type `object`, it should be `datetime` for better manipulation of this attribute.\n",
    "- There are multiple columns with missing data, Let's investigate which columns has missing data in the next code cell."
   ]
  },
  {
   "cell_type": "code",
   "execution_count": 5,
   "metadata": {},
   "outputs": [
    {
     "data": {
      "image/png": "[encoded data removed]",
      "text/plain": [
       "<Figure size 720x432 with 1 Axes>"
      ]
     },
     "metadata": {
      "needs_background": "light"
     },
     "output_type": "display_data"
    }
   ],
   "source": [
    "# getting columns with missing values and the count of missing values\n",
    "missing = df.isnull().sum()[df.isnull().sum()>0].sort_values()\n",
    "# plotting the results\n",
    "fig, ax = plt.subplots(figsize=(10, 6))\n",
    "bars = ax.barh(missing.keys(), missing.values)\n",
    "ax.set_title(\"Missing data in each column\")\n",
    "ax.bar_label(bars)\n",
    "plt.show()"
   ]
  },
  {
   "cell_type": "markdown",
   "metadata": {},
   "source": [
    "**Insights**\n",
    "- `homepage` column has over 70% missing values.\n",
    "- other column that have a relatively high ratio of missing values are `tagline`, `keywords`, `production_companies`.\n",
    "- Each of `cast`, `director`, `genres`, `imdb_id`, `overview` has less than 80 missing values.\n",
    "\n",
    "Next, We will see whether there are any duplicate values"
   ]
  },
  {
   "cell_type": "code",
   "execution_count": 6,
   "metadata": {},
   "outputs": [
    {
     "data": {
      "text/plain": [
       "1"
      ]
     },
     "execution_count": 6,
     "metadata": {},
     "output_type": "execute_result"
    }
   ],
   "source": [
    "df.duplicated().sum()"
   ]
  },
  {
   "cell_type": "markdown",
   "metadata": {},
   "source": [
    "Indeed, there is one duplicated row. We can see it in the next cell"
   ]
  },
  {
   "cell_type": "code",
   "execution_count": 7,
   "metadata": {},
   "outputs": [
    {
     "data": {
      "text/html": [
       "<div>\n",
       "<style scoped>\n",
       "    .dataframe tbody tr th:only-of-type {\n",
       "        vertical-align: middle;\n",
       "    }\n",
       "\n",
       "    .dataframe tbody tr th {\n",
       "        vertical-align: top;\n",
       "    }\n",
       "\n",
       "    .dataframe thead th {\n",
       "        text-align: right;\n",
       "    }\n",
       "</style>\n",
       "<table border=\"1\" class=\"dataframe\">\n",
       "  <thead>\n",
       "    <tr style=\"text-align: right;\">\n",
       "      <th></th>\n",
       "      <th>id</th>\n",
       "      <th>imdb_id</th>\n",
       "      <th>popularity</th>\n",
       "      <th>budget</th>\n",
       "      <th>revenue</th>\n",
       "      <th>original_title</th>\n",
       "      <th>cast</th>\n",
       "      <th>homepage</th>\n",
       "      <th>director</th>\n",
       "      <th>tagline</th>\n",
       "      <th>...</th>\n",
       "      <th>overview</th>\n",
       "      <th>runtime</th>\n",
       "      <th>genres</th>\n",
       "      <th>production_companies</th>\n",
       "      <th>release_date</th>\n",
       "      <th>vote_count</th>\n",
       "      <th>vote_average</th>\n",
       "      <th>release_year</th>\n",
       "      <th>budget_adj</th>\n",
       "      <th>revenue_adj</th>\n",
       "    </tr>\n",
       "  </thead>\n",
       "  <tbody>\n",
       "    <tr>\n",
       "      <th>2089</th>\n",
       "      <td>42194</td>\n",
       "      <td>tt0411951</td>\n",
       "      <td>0.59643</td>\n",
       "      <td>30000000</td>\n",
       "      <td>967000</td>\n",
       "      <td>TEKKEN</td>\n",
       "      <td>Jon Foo|Kelly Overton|Cary-Hiroyuki Tagawa|Ian...</td>\n",
       "      <td>NaN</td>\n",
       "      <td>Dwight H. Little</td>\n",
       "      <td>Survival is no game</td>\n",
       "      <td>...</td>\n",
       "      <td>In the year of 2039, after World Wars destroy ...</td>\n",
       "      <td>92</td>\n",
       "      <td>Crime|Drama|Action|Thriller|Science Fiction</td>\n",
       "      <td>Namco|Light Song Films</td>\n",
       "      <td>3/20/10</td>\n",
       "      <td>110</td>\n",
       "      <td>5.0</td>\n",
       "      <td>2010</td>\n",
       "      <td>30000000.0</td>\n",
       "      <td>967000.0</td>\n",
       "    </tr>\n",
       "    <tr>\n",
       "      <th>2090</th>\n",
       "      <td>42194</td>\n",
       "      <td>tt0411951</td>\n",
       "      <td>0.59643</td>\n",
       "      <td>30000000</td>\n",
       "      <td>967000</td>\n",
       "      <td>TEKKEN</td>\n",
       "      <td>Jon Foo|Kelly Overton|Cary-Hiroyuki Tagawa|Ian...</td>\n",
       "      <td>NaN</td>\n",
       "      <td>Dwight H. Little</td>\n",
       "      <td>Survival is no game</td>\n",
       "      <td>...</td>\n",
       "      <td>In the year of 2039, after World Wars destroy ...</td>\n",
       "      <td>92</td>\n",
       "      <td>Crime|Drama|Action|Thriller|Science Fiction</td>\n",
       "      <td>Namco|Light Song Films</td>\n",
       "      <td>3/20/10</td>\n",
       "      <td>110</td>\n",
       "      <td>5.0</td>\n",
       "      <td>2010</td>\n",
       "      <td>30000000.0</td>\n",
       "      <td>967000.0</td>\n",
       "    </tr>\n",
       "  </tbody>\n",
       "</table>\n",
       "<p>2 rows × 21 columns</p>\n",
       "</div>"
      ],
      "text/plain": [
       "         id    imdb_id  popularity    budget  revenue original_title  \\\n",
       "2089  42194  tt0411951     0.59643  30000000   967000         TEKKEN   \n",
       "2090  42194  tt0411951     0.59643  30000000   967000         TEKKEN   \n",
       "\n",
       "                                                   cast homepage  \\\n",
       "2089  Jon Foo|Kelly Overton|Cary-Hiroyuki Tagawa|Ian...      NaN   \n",
       "2090  Jon Foo|Kelly Overton|Cary-Hiroyuki Tagawa|Ian...      NaN   \n",
       "\n",
       "              director              tagline  ...  \\\n",
       "2089  Dwight H. Little  Survival is no game  ...   \n",
       "2090  Dwight H. Little  Survival is no game  ...   \n",
       "\n",
       "                                               overview runtime  \\\n",
       "2089  In the year of 2039, after World Wars destroy ...      92   \n",
       "2090  In the year of 2039, after World Wars destroy ...      92   \n",
       "\n",
       "                                           genres    production_companies  \\\n",
       "2089  Crime|Drama|Action|Thriller|Science Fiction  Namco|Light Song Films   \n",
       "2090  Crime|Drama|Action|Thriller|Science Fiction  Namco|Light Song Films   \n",
       "\n",
       "     release_date vote_count  vote_average  release_year  budget_adj  \\\n",
       "2089      3/20/10        110           5.0          2010  30000000.0   \n",
       "2090      3/20/10        110           5.0          2010  30000000.0   \n",
       "\n",
       "      revenue_adj  \n",
       "2089     967000.0  \n",
       "2090     967000.0  \n",
       "\n",
       "[2 rows x 21 columns]"
      ]
     },
     "execution_count": 7,
     "metadata": {},
     "output_type": "execute_result"
    }
   ],
   "source": [
    "df[df['id']==42194]"
   ]
  },
  {
   "cell_type": "code",
   "execution_count": 8,
   "metadata": {},
   "outputs": [
    {
     "data": {
      "text/html": [
       "<div>\n",
       "<style scoped>\n",
       "    .dataframe tbody tr th:only-of-type {\n",
       "        vertical-align: middle;\n",
       "    }\n",
       "\n",
       "    .dataframe tbody tr th {\n",
       "        vertical-align: top;\n",
       "    }\n",
       "\n",
       "    .dataframe thead th {\n",
       "        text-align: right;\n",
       "    }\n",
       "</style>\n",
       "<table border=\"1\" class=\"dataframe\">\n",
       "  <thead>\n",
       "    <tr style=\"text-align: right;\">\n",
       "      <th></th>\n",
       "      <th>id</th>\n",
       "      <th>popularity</th>\n",
       "      <th>budget</th>\n",
       "      <th>revenue</th>\n",
       "      <th>runtime</th>\n",
       "      <th>vote_count</th>\n",
       "      <th>vote_average</th>\n",
       "      <th>release_year</th>\n",
       "      <th>budget_adj</th>\n",
       "      <th>revenue_adj</th>\n",
       "    </tr>\n",
       "  </thead>\n",
       "  <tbody>\n",
       "    <tr>\n",
       "      <th>count</th>\n",
       "      <td>10866.000000</td>\n",
       "      <td>10866.000000</td>\n",
       "      <td>1.086600e+04</td>\n",
       "      <td>1.086600e+04</td>\n",
       "      <td>10866.000000</td>\n",
       "      <td>10866.000000</td>\n",
       "      <td>10866.000000</td>\n",
       "      <td>10866.000000</td>\n",
       "      <td>1.086600e+04</td>\n",
       "      <td>1.086600e+04</td>\n",
       "    </tr>\n",
       "    <tr>\n",
       "      <th>mean</th>\n",
       "      <td>66064.177434</td>\n",
       "      <td>0.646441</td>\n",
       "      <td>1.462570e+07</td>\n",
       "      <td>3.982332e+07</td>\n",
       "      <td>102.070863</td>\n",
       "      <td>217.389748</td>\n",
       "      <td>5.974922</td>\n",
       "      <td>2001.322658</td>\n",
       "      <td>1.755104e+07</td>\n",
       "      <td>5.136436e+07</td>\n",
       "    </tr>\n",
       "    <tr>\n",
       "      <th>std</th>\n",
       "      <td>92130.136561</td>\n",
       "      <td>1.000185</td>\n",
       "      <td>3.091321e+07</td>\n",
       "      <td>1.170035e+08</td>\n",
       "      <td>31.381405</td>\n",
       "      <td>575.619058</td>\n",
       "      <td>0.935142</td>\n",
       "      <td>12.812941</td>\n",
       "      <td>3.430616e+07</td>\n",
       "      <td>1.446325e+08</td>\n",
       "    </tr>\n",
       "    <tr>\n",
       "      <th>min</th>\n",
       "      <td>5.000000</td>\n",
       "      <td>0.000065</td>\n",
       "      <td>0.000000e+00</td>\n",
       "      <td>0.000000e+00</td>\n",
       "      <td>0.000000</td>\n",
       "      <td>10.000000</td>\n",
       "      <td>1.500000</td>\n",
       "      <td>1960.000000</td>\n",
       "      <td>0.000000e+00</td>\n",
       "      <td>0.000000e+00</td>\n",
       "    </tr>\n",
       "    <tr>\n",
       "      <th>25%</th>\n",
       "      <td>10596.250000</td>\n",
       "      <td>0.207583</td>\n",
       "      <td>0.000000e+00</td>\n",
       "      <td>0.000000e+00</td>\n",
       "      <td>90.000000</td>\n",
       "      <td>17.000000</td>\n",
       "      <td>5.400000</td>\n",
       "      <td>1995.000000</td>\n",
       "      <td>0.000000e+00</td>\n",
       "      <td>0.000000e+00</td>\n",
       "    </tr>\n",
       "    <tr>\n",
       "      <th>50%</th>\n",
       "      <td>20669.000000</td>\n",
       "      <td>0.383856</td>\n",
       "      <td>0.000000e+00</td>\n",
       "      <td>0.000000e+00</td>\n",
       "      <td>99.000000</td>\n",
       "      <td>38.000000</td>\n",
       "      <td>6.000000</td>\n",
       "      <td>2006.000000</td>\n",
       "      <td>0.000000e+00</td>\n",
       "      <td>0.000000e+00</td>\n",
       "    </tr>\n",
       "    <tr>\n",
       "      <th>75%</th>\n",
       "      <td>75610.000000</td>\n",
       "      <td>0.713817</td>\n",
       "      <td>1.500000e+07</td>\n",
       "      <td>2.400000e+07</td>\n",
       "      <td>111.000000</td>\n",
       "      <td>145.750000</td>\n",
       "      <td>6.600000</td>\n",
       "      <td>2011.000000</td>\n",
       "      <td>2.085325e+07</td>\n",
       "      <td>3.369710e+07</td>\n",
       "    </tr>\n",
       "    <tr>\n",
       "      <th>max</th>\n",
       "      <td>417859.000000</td>\n",
       "      <td>32.985763</td>\n",
       "      <td>4.250000e+08</td>\n",
       "      <td>2.781506e+09</td>\n",
       "      <td>900.000000</td>\n",
       "      <td>9767.000000</td>\n",
       "      <td>9.200000</td>\n",
       "      <td>2015.000000</td>\n",
       "      <td>4.250000e+08</td>\n",
       "      <td>2.827124e+09</td>\n",
       "    </tr>\n",
       "  </tbody>\n",
       "</table>\n",
       "</div>"
      ],
      "text/plain": [
       "                  id    popularity        budget       revenue       runtime  \\\n",
       "count   10866.000000  10866.000000  1.086600e+04  1.086600e+04  10866.000000   \n",
       "mean    66064.177434      0.646441  1.462570e+07  3.982332e+07    102.070863   \n",
       "std     92130.136561      1.000185  3.091321e+07  1.170035e+08     31.381405   \n",
       "min         5.000000      0.000065  0.000000e+00  0.000000e+00      0.000000   \n",
       "25%     10596.250000      0.207583  0.000000e+00  0.000000e+00     90.000000   \n",
       "50%     20669.000000      0.383856  0.000000e+00  0.000000e+00     99.000000   \n",
       "75%     75610.000000      0.713817  1.500000e+07  2.400000e+07    111.000000   \n",
       "max    417859.000000     32.985763  4.250000e+08  2.781506e+09    900.000000   \n",
       "\n",
       "         vote_count  vote_average  release_year    budget_adj   revenue_adj  \n",
       "count  10866.000000  10866.000000  10866.000000  1.086600e+04  1.086600e+04  \n",
       "mean     217.389748      5.974922   2001.322658  1.755104e+07  5.136436e+07  \n",
       "std      575.619058      0.935142     12.812941  3.430616e+07  1.446325e+08  \n",
       "min       10.000000      1.500000   1960.000000  0.000000e+00  0.000000e+00  \n",
       "25%       17.000000      5.400000   1995.000000  0.000000e+00  0.000000e+00  \n",
       "50%       38.000000      6.000000   2006.000000  0.000000e+00  0.000000e+00  \n",
       "75%      145.750000      6.600000   2011.000000  2.085325e+07  3.369710e+07  \n",
       "max     9767.000000      9.200000   2015.000000  4.250000e+08  2.827124e+09  "
      ]
     },
     "execution_count": 8,
     "metadata": {},
     "output_type": "execute_result"
    }
   ],
   "source": [
    "df.describe()"
   ]
  },
  {
   "cell_type": "markdown",
   "metadata": {},
   "source": [
    "**Insights**\n",
    "- A bit over 55% of movies have a `revenue` of `0$` which is not valid. The 0's are probably missing data.\n",
    "- The same thing holds true for `revenue_adj`, `budget` & `budget_adj`.\n",
    "- There are a few movies (31 to be exact) that have a `runtime` of `0`. It's most likely missing data as a movie can't be 0 minutes long.\n",
    "\n",
    "> PS: the next code cells shows how to get the numbers shown in the insights."
   ]
  },
  {
   "cell_type": "code",
   "execution_count": 9,
   "metadata": {},
   "outputs": [
    {
     "data": {
      "text/plain": [
       "55.365359838026876"
      ]
     },
     "execution_count": 9,
     "metadata": {},
     "output_type": "execute_result"
    }
   ],
   "source": [
    "df[df['revenue']==0].shape[0]/df.shape[0]*100"
   ]
  },
  {
   "cell_type": "code",
   "execution_count": 10,
   "metadata": {},
   "outputs": [
    {
     "data": {
      "text/plain": [
       "52.42039388919566"
      ]
     },
     "execution_count": 10,
     "metadata": {},
     "output_type": "execute_result"
    }
   ],
   "source": [
    "df[df['budget']==0].shape[0]/df.shape[0]*100"
   ]
  },
  {
   "cell_type": "code",
   "execution_count": 11,
   "metadata": {},
   "outputs": [
    {
     "data": {
      "text/plain": [
       "31"
      ]
     },
     "execution_count": 11,
     "metadata": {},
     "output_type": "execute_result"
    }
   ],
   "source": [
    "df[df['runtime']==0].shape[0]"
   ]
  },
  {
   "cell_type": "markdown",
   "metadata": {},
   "source": [
    "**Problems**\n",
    "- `release_date` is of type `object` instead of `datetime`.\n",
    "- There is one duplicated row.\n",
    "- There are multiple columns with missing values.\n",
    "- There are some columns such as `revenue` and `budget` that have 0's to represent missing data.\n",
    "\n",
    "### Data Cleaning\n",
    "First, we will convert the datatype of `release_date` to `datetime`\n",
    "Converting the datatype directly will cause a problem for movies published in the 90's as pandas will convert the year 1966 to 2066 instead.\n",
    "\n",
    "We will make the year a 4 digit number first with the help of the `release_year` column, then we will convert the datatype"
   ]
  },
  {
   "cell_type": "code",
   "execution_count": 12,
   "metadata": {},
   "outputs": [
    {
     "data": {
      "text/plain": [
       "0       2015-06-09\n",
       "1       2015-05-13\n",
       "2       2015-03-18\n",
       "3       2015-12-15\n",
       "4       2015-04-01\n",
       "           ...    \n",
       "10861   1966-06-15\n",
       "10862   1966-12-21\n",
       "10863   1966-01-01\n",
       "10864   1966-11-02\n",
       "10865   1966-11-15\n",
       "Name: release_date, Length: 10866, dtype: datetime64[ns]"
      ]
     },
     "execution_count": 12,
     "metadata": {},
     "output_type": "execute_result"
    }
   ],
   "source": [
    "# converting release_date data type to datetime\n",
    "df['release_date'] = df['release_date'].str[:-2] + df['release_year'].astype('str')\n",
    "df['release_date'] = pd.to_datetime(df['release_date'], format='%m/%d/%Y')\n",
    "df['release_date']"
   ]
  },
  {
   "cell_type": "markdown",
   "metadata": {},
   "source": [
    "Now, we will drop the duplicated row in the next cell"
   ]
  },
  {
   "cell_type": "code",
   "execution_count": 13,
   "metadata": {},
   "outputs": [],
   "source": [
    "df.drop_duplicates(inplace=True)"
   ]
  },
  {
   "cell_type": "markdown",
   "metadata": {},
   "source": [
    "For the missing values, some columns can't be filled in any other way but with some research as `tagline`, `keywords`, `cast`...\n",
    "\n",
    "A missing value in `homepage` means the movie does not have a website.\n"
   ]
  },
  {
   "cell_type": "markdown",
   "metadata": {},
   "source": [
    "For the `0's` in `budget` and `revenue`. I will replace them by the mean budget and revenue respectively in that year.\n",
    "\n",
    "First I will replace the zeros by `NaN` so that they don't affect the mean."
   ]
  },
  {
   "cell_type": "code",
   "execution_count": 14,
   "metadata": {},
   "outputs": [],
   "source": [
    "df['revenue'].replace(to_replace = 0, value = np.nan, inplace=True)\n",
    "df['budget'].replace(to_replace = 0, value = np.nan, inplace=True)"
   ]
  },
  {
   "cell_type": "code",
   "execution_count": 15,
   "metadata": {},
   "outputs": [
    {
     "data": {
      "image/png": "[encoded data removed]",
      "text/plain": [
       "<Figure size 432x288 with 1 Axes>"
      ]
     },
     "metadata": {
      "needs_background": "light"
     },
     "output_type": "display_data"
    }
   ],
   "source": [
    "df.plot(x='release_year', y='budget', kind='scatter', alpha=0.2)\n",
    "plt.title('Budget vs release year')\n",
    "plt.show()"
   ]
  },
  {
   "cell_type": "code",
   "execution_count": 16,
   "metadata": {},
   "outputs": [],
   "source": [
    "# finding the mean revenue and budget for movies grouped by year\n",
    "fill_values = df.groupby('release_year').agg({'revenue': 'mean', 'budget': 'mean'})"
   ]
  },
  {
   "cell_type": "code",
   "execution_count": 17,
   "metadata": {},
   "outputs": [],
   "source": [
    "# these two columns will help me fill in the missing data\n",
    "df['rev'] = fill_values.loc[df['release_year'],'revenue'].values\n",
    "df['budg'] = fill_values.loc[df['release_year'],'budget'].values"
   ]
  },
  {
   "cell_type": "code",
   "execution_count": 18,
   "metadata": {},
   "outputs": [],
   "source": [
    "# filling the missing columns with the corresponding value\n",
    "df['revenue'] = np.where(df['revenue'].isnull(), df['rev'].values, df['revenue'].values)\n",
    "df['budget'] = np.where(df['budget'].isnull(), df['budg'].values, df['budget'].values)"
   ]
  },
  {
   "cell_type": "code",
   "execution_count": 19,
   "metadata": {},
   "outputs": [],
   "source": [
    "# dropping the two columns that we created to fill revenue and budget\n",
    "df.drop(['rev', 'budg'], axis=1, inplace=True)"
   ]
  },
  {
   "cell_type": "markdown",
   "metadata": {},
   "source": [
    "for the genres, there are 23 rows with missing values. Since it is unsignificant, I will drop those rows in the next cell"
   ]
  },
  {
   "cell_type": "code",
   "execution_count": 20,
   "metadata": {},
   "outputs": [],
   "source": [
    "df.dropna(subset=['genres'], inplace=True)"
   ]
  },
  {
   "cell_type": "markdown",
   "metadata": {},
   "source": [
    "There are 1030 rows with missing `production_companies`. I'm going to replace the null value with other so I can further analyse the data in the column later"
   ]
  },
  {
   "cell_type": "code",
   "execution_count": 21,
   "metadata": {},
   "outputs": [],
   "source": [
    "df['production_companies'] = df['production_companies'].fillna('other|')"
   ]
  },
  {
   "cell_type": "markdown",
   "metadata": {},
   "source": [
    "<a id='eda'></a>\n",
    "## Exploratory Data Analysis"
   ]
  },
  {
   "cell_type": "code",
   "execution_count": 22,
   "metadata": {},
   "outputs": [
    {
     "data": {
      "image/png": "[encoded data removed]",
      "text/plain": [
       "<Figure size 1152x864 with 12 Axes>"
      ]
     },
     "metadata": {
      "needs_background": "light"
     },
     "output_type": "display_data"
    }
   ],
   "source": [
    "df.drop(['id'], axis=1).hist(figsize=(16,12));"
   ]
  },
  {
   "cell_type": "markdown",
   "metadata": {},
   "source": [
    "**Insights**\n",
    "- `popularity`, `budget`, `revenue`, `runtime`, `votecount` are all positively skewed.\n",
    "- `release_year` and `release_date` are negatively skewed which means that more and more movies are produced every year.\n",
    "- `vote_average` is kind of normally distributed."
   ]
  },
  {
   "cell_type": "markdown",
   "metadata": {},
   "source": [
    "<a id='q1'></a>\n",
    "### How many movies are made each year?"
   ]
  },
  {
   "cell_type": "code",
   "execution_count": 23,
   "metadata": {},
   "outputs": [
    {
     "data": {
      "image/png": "[encoded data removed]",
      "text/plain": [
       "<Figure size 1440x576 with 1 Axes>"
      ]
     },
     "metadata": {
      "needs_background": "light"
     },
     "output_type": "display_data"
    }
   ],
   "source": [
    "movies_p_year = df['release_year'].value_counts().sort_index()\n",
    "fig, ax = plt.subplots(figsize=(20, 8))\n",
    "bars = ax.bar(movies_p_year.keys(), movies_p_year.values)\n",
    "ax.set_title(\"Number of movies produced every year\")\n",
    "ax.bar_label(bars)\n",
    "plt.show()"
   ]
  },
  {
   "cell_type": "markdown",
   "metadata": {},
   "source": [
    "From the previous bar chart, we immediately notice how the number of movies produced every year is increasing. In the sixties, 30 to 45 movies were produced every year. Then the number started rising untill it doubled x20 times when it reached a max of 700 movies by 2014\n",
    "<a id='q2'></a>\n",
    "### Which movies are most popular?"
   ]
  },
  {
   "cell_type": "code",
   "execution_count": 24,
   "metadata": {},
   "outputs": [
    {
     "data": {
      "text/html": [
       "<div>\n",
       "<style scoped>\n",
       "    .dataframe tbody tr th:only-of-type {\n",
       "        vertical-align: middle;\n",
       "    }\n",
       "\n",
       "    .dataframe tbody tr th {\n",
       "        vertical-align: top;\n",
       "    }\n",
       "\n",
       "    .dataframe thead th {\n",
       "        text-align: right;\n",
       "    }\n",
       "</style>\n",
       "<table border=\"1\" class=\"dataframe\">\n",
       "  <thead>\n",
       "    <tr style=\"text-align: right;\">\n",
       "      <th></th>\n",
       "      <th>original_title</th>\n",
       "      <th>popularity</th>\n",
       "      <th>genres</th>\n",
       "      <th>release_year</th>\n",
       "      <th>director</th>\n",
       "      <th>production_companies</th>\n",
       "    </tr>\n",
       "  </thead>\n",
       "  <tbody>\n",
       "    <tr>\n",
       "      <th>0</th>\n",
       "      <td>Jurassic World</td>\n",
       "      <td>32.985763</td>\n",
       "      <td>Action|Adventure|Science Fiction|Thriller</td>\n",
       "      <td>2015</td>\n",
       "      <td>Colin Trevorrow</td>\n",
       "      <td>Universal Studios|Amblin Entertainment|Legenda...</td>\n",
       "    </tr>\n",
       "    <tr>\n",
       "      <th>1</th>\n",
       "      <td>Mad Max: Fury Road</td>\n",
       "      <td>28.419936</td>\n",
       "      <td>Action|Adventure|Science Fiction|Thriller</td>\n",
       "      <td>2015</td>\n",
       "      <td>George Miller</td>\n",
       "      <td>Village Roadshow Pictures|Kennedy Miller Produ...</td>\n",
       "    </tr>\n",
       "    <tr>\n",
       "      <th>629</th>\n",
       "      <td>Interstellar</td>\n",
       "      <td>24.949134</td>\n",
       "      <td>Adventure|Drama|Science Fiction</td>\n",
       "      <td>2014</td>\n",
       "      <td>Christopher Nolan</td>\n",
       "      <td>Paramount Pictures|Legendary Pictures|Warner B...</td>\n",
       "    </tr>\n",
       "    <tr>\n",
       "      <th>630</th>\n",
       "      <td>Guardians of the Galaxy</td>\n",
       "      <td>14.311205</td>\n",
       "      <td>Action|Science Fiction|Adventure</td>\n",
       "      <td>2014</td>\n",
       "      <td>James Gunn</td>\n",
       "      <td>Marvel Studios|Moving Picture Company (MPC)|Bu...</td>\n",
       "    </tr>\n",
       "    <tr>\n",
       "      <th>2</th>\n",
       "      <td>Insurgent</td>\n",
       "      <td>13.112507</td>\n",
       "      <td>Adventure|Science Fiction|Thriller</td>\n",
       "      <td>2015</td>\n",
       "      <td>Robert Schwentke</td>\n",
       "      <td>Summit Entertainment|Mandeville Films|Red Wago...</td>\n",
       "    </tr>\n",
       "    <tr>\n",
       "      <th>631</th>\n",
       "      <td>Captain America: The Winter Soldier</td>\n",
       "      <td>12.971027</td>\n",
       "      <td>Action|Adventure|Science Fiction</td>\n",
       "      <td>2014</td>\n",
       "      <td>Joe Russo|Anthony Russo</td>\n",
       "      <td>Marvel Studios</td>\n",
       "    </tr>\n",
       "    <tr>\n",
       "      <th>1329</th>\n",
       "      <td>Star Wars</td>\n",
       "      <td>12.037933</td>\n",
       "      <td>Adventure|Action|Science Fiction</td>\n",
       "      <td>1977</td>\n",
       "      <td>George Lucas</td>\n",
       "      <td>Lucasfilm|Twentieth Century Fox Film Corporation</td>\n",
       "    </tr>\n",
       "    <tr>\n",
       "      <th>632</th>\n",
       "      <td>John Wick</td>\n",
       "      <td>11.422751</td>\n",
       "      <td>Action|Thriller</td>\n",
       "      <td>2014</td>\n",
       "      <td>Chad Stahelski|David Leitch</td>\n",
       "      <td>Thunder Road Pictures|Warner Bros.|87Eleven|De...</td>\n",
       "    </tr>\n",
       "    <tr>\n",
       "      <th>3</th>\n",
       "      <td>Star Wars: The Force Awakens</td>\n",
       "      <td>11.173104</td>\n",
       "      <td>Action|Adventure|Science Fiction|Fantasy</td>\n",
       "      <td>2015</td>\n",
       "      <td>J.J. Abrams</td>\n",
       "      <td>Lucasfilm|Truenorth Productions|Bad Robot</td>\n",
       "    </tr>\n",
       "    <tr>\n",
       "      <th>633</th>\n",
       "      <td>The Hunger Games: Mockingjay - Part 1</td>\n",
       "      <td>10.739009</td>\n",
       "      <td>Science Fiction|Adventure|Thriller</td>\n",
       "      <td>2014</td>\n",
       "      <td>Francis Lawrence</td>\n",
       "      <td>Lionsgate|Color Force</td>\n",
       "    </tr>\n",
       "  </tbody>\n",
       "</table>\n",
       "</div>"
      ],
      "text/plain": [
       "                             original_title  popularity  \\\n",
       "0                            Jurassic World   32.985763   \n",
       "1                        Mad Max: Fury Road   28.419936   \n",
       "629                            Interstellar   24.949134   \n",
       "630                 Guardians of the Galaxy   14.311205   \n",
       "2                                 Insurgent   13.112507   \n",
       "631     Captain America: The Winter Soldier   12.971027   \n",
       "1329                              Star Wars   12.037933   \n",
       "632                               John Wick   11.422751   \n",
       "3              Star Wars: The Force Awakens   11.173104   \n",
       "633   The Hunger Games: Mockingjay - Part 1   10.739009   \n",
       "\n",
       "                                         genres  release_year  \\\n",
       "0     Action|Adventure|Science Fiction|Thriller          2015   \n",
       "1     Action|Adventure|Science Fiction|Thriller          2015   \n",
       "629             Adventure|Drama|Science Fiction          2014   \n",
       "630            Action|Science Fiction|Adventure          2014   \n",
       "2            Adventure|Science Fiction|Thriller          2015   \n",
       "631            Action|Adventure|Science Fiction          2014   \n",
       "1329           Adventure|Action|Science Fiction          1977   \n",
       "632                             Action|Thriller          2014   \n",
       "3      Action|Adventure|Science Fiction|Fantasy          2015   \n",
       "633          Science Fiction|Adventure|Thriller          2014   \n",
       "\n",
       "                         director  \\\n",
       "0                 Colin Trevorrow   \n",
       "1                   George Miller   \n",
       "629             Christopher Nolan   \n",
       "630                    James Gunn   \n",
       "2                Robert Schwentke   \n",
       "631       Joe Russo|Anthony Russo   \n",
       "1329                 George Lucas   \n",
       "632   Chad Stahelski|David Leitch   \n",
       "3                     J.J. Abrams   \n",
       "633              Francis Lawrence   \n",
       "\n",
       "                                   production_companies  \n",
       "0     Universal Studios|Amblin Entertainment|Legenda...  \n",
       "1     Village Roadshow Pictures|Kennedy Miller Produ...  \n",
       "629   Paramount Pictures|Legendary Pictures|Warner B...  \n",
       "630   Marvel Studios|Moving Picture Company (MPC)|Bu...  \n",
       "2     Summit Entertainment|Mandeville Films|Red Wago...  \n",
       "631                                      Marvel Studios  \n",
       "1329   Lucasfilm|Twentieth Century Fox Film Corporation  \n",
       "632   Thunder Road Pictures|Warner Bros.|87Eleven|De...  \n",
       "3             Lucasfilm|Truenorth Productions|Bad Robot  \n",
       "633                               Lionsgate|Color Force  "
      ]
     },
     "execution_count": 24,
     "metadata": {},
     "output_type": "execute_result"
    }
   ],
   "source": [
    "df.loc[df['popularity'].nlargest(10).keys(),['original_title', 'popularity', 'genres', 'release_year', 'director', 'production_companies']]"
   ]
  },
  {
   "cell_type": "markdown",
   "metadata": {},
   "source": [
    "<a id='q3'></a>\n",
    "### Which movies have the highest revenue?"
   ]
  },
  {
   "cell_type": "code",
   "execution_count": 25,
   "metadata": {},
   "outputs": [
    {
     "data": {
      "text/html": [
       "<div>\n",
       "<style scoped>\n",
       "    .dataframe tbody tr th:only-of-type {\n",
       "        vertical-align: middle;\n",
       "    }\n",
       "\n",
       "    .dataframe tbody tr th {\n",
       "        vertical-align: top;\n",
       "    }\n",
       "\n",
       "    .dataframe thead th {\n",
       "        text-align: right;\n",
       "    }\n",
       "</style>\n",
       "<table border=\"1\" class=\"dataframe\">\n",
       "  <thead>\n",
       "    <tr style=\"text-align: right;\">\n",
       "      <th></th>\n",
       "      <th>original_title</th>\n",
       "      <th>revenue</th>\n",
       "      <th>budget</th>\n",
       "      <th>popularity</th>\n",
       "      <th>genres</th>\n",
       "      <th>release_year</th>\n",
       "      <th>director</th>\n",
       "      <th>production_companies</th>\n",
       "    </tr>\n",
       "  </thead>\n",
       "  <tbody>\n",
       "    <tr>\n",
       "      <th>1386</th>\n",
       "      <td>Avatar</td>\n",
       "      <td>2.781506e+09</td>\n",
       "      <td>237000000.0</td>\n",
       "      <td>9.432768</td>\n",
       "      <td>Action|Adventure|Fantasy|Science Fiction</td>\n",
       "      <td>2009</td>\n",
       "      <td>James Cameron</td>\n",
       "      <td>Ingenious Film Partners|Twentieth Century Fox ...</td>\n",
       "    </tr>\n",
       "    <tr>\n",
       "      <th>3</th>\n",
       "      <td>Star Wars: The Force Awakens</td>\n",
       "      <td>2.068178e+09</td>\n",
       "      <td>200000000.0</td>\n",
       "      <td>11.173104</td>\n",
       "      <td>Action|Adventure|Science Fiction|Fantasy</td>\n",
       "      <td>2015</td>\n",
       "      <td>J.J. Abrams</td>\n",
       "      <td>Lucasfilm|Truenorth Productions|Bad Robot</td>\n",
       "    </tr>\n",
       "    <tr>\n",
       "      <th>5231</th>\n",
       "      <td>Titanic</td>\n",
       "      <td>1.845034e+09</td>\n",
       "      <td>200000000.0</td>\n",
       "      <td>4.355219</td>\n",
       "      <td>Drama|Romance|Thriller</td>\n",
       "      <td>1997</td>\n",
       "      <td>James Cameron</td>\n",
       "      <td>Paramount Pictures|Twentieth Century Fox Film ...</td>\n",
       "    </tr>\n",
       "    <tr>\n",
       "      <th>4361</th>\n",
       "      <td>The Avengers</td>\n",
       "      <td>1.519558e+09</td>\n",
       "      <td>220000000.0</td>\n",
       "      <td>7.637767</td>\n",
       "      <td>Science Fiction|Action|Adventure</td>\n",
       "      <td>2012</td>\n",
       "      <td>Joss Whedon</td>\n",
       "      <td>Marvel Studios</td>\n",
       "    </tr>\n",
       "    <tr>\n",
       "      <th>0</th>\n",
       "      <td>Jurassic World</td>\n",
       "      <td>1.513529e+09</td>\n",
       "      <td>150000000.0</td>\n",
       "      <td>32.985763</td>\n",
       "      <td>Action|Adventure|Science Fiction|Thriller</td>\n",
       "      <td>2015</td>\n",
       "      <td>Colin Trevorrow</td>\n",
       "      <td>Universal Studios|Amblin Entertainment|Legenda...</td>\n",
       "    </tr>\n",
       "    <tr>\n",
       "      <th>4</th>\n",
       "      <td>Furious 7</td>\n",
       "      <td>1.506249e+09</td>\n",
       "      <td>190000000.0</td>\n",
       "      <td>9.335014</td>\n",
       "      <td>Action|Crime|Thriller</td>\n",
       "      <td>2015</td>\n",
       "      <td>James Wan</td>\n",
       "      <td>Universal Pictures|Original Film|Media Rights ...</td>\n",
       "    </tr>\n",
       "    <tr>\n",
       "      <th>14</th>\n",
       "      <td>Avengers: Age of Ultron</td>\n",
       "      <td>1.405036e+09</td>\n",
       "      <td>280000000.0</td>\n",
       "      <td>5.944927</td>\n",
       "      <td>Action|Adventure|Science Fiction</td>\n",
       "      <td>2015</td>\n",
       "      <td>Joss Whedon</td>\n",
       "      <td>Marvel Studios|Prime Focus|Revolution Sun Studios</td>\n",
       "    </tr>\n",
       "    <tr>\n",
       "      <th>3374</th>\n",
       "      <td>Harry Potter and the Deathly Hallows: Part 2</td>\n",
       "      <td>1.327818e+09</td>\n",
       "      <td>125000000.0</td>\n",
       "      <td>5.711315</td>\n",
       "      <td>Adventure|Family|Fantasy</td>\n",
       "      <td>2011</td>\n",
       "      <td>David Yates</td>\n",
       "      <td>Warner Bros.|Heyday Films|Moving Picture Compa...</td>\n",
       "    </tr>\n",
       "    <tr>\n",
       "      <th>5422</th>\n",
       "      <td>Frozen</td>\n",
       "      <td>1.274219e+09</td>\n",
       "      <td>150000000.0</td>\n",
       "      <td>6.112766</td>\n",
       "      <td>Animation|Adventure|Family</td>\n",
       "      <td>2013</td>\n",
       "      <td>Chris Buck|Jennifer Lee</td>\n",
       "      <td>Walt Disney Pictures|Walt Disney Animation Stu...</td>\n",
       "    </tr>\n",
       "    <tr>\n",
       "      <th>5425</th>\n",
       "      <td>Iron Man 3</td>\n",
       "      <td>1.215440e+09</td>\n",
       "      <td>200000000.0</td>\n",
       "      <td>4.946136</td>\n",
       "      <td>Action|Adventure|Science Fiction</td>\n",
       "      <td>2013</td>\n",
       "      <td>Shane Black</td>\n",
       "      <td>Marvel Studios</td>\n",
       "    </tr>\n",
       "  </tbody>\n",
       "</table>\n",
       "</div>"
      ],
      "text/plain": [
       "                                    original_title       revenue       budget  \\\n",
       "1386                                        Avatar  2.781506e+09  237000000.0   \n",
       "3                     Star Wars: The Force Awakens  2.068178e+09  200000000.0   \n",
       "5231                                       Titanic  1.845034e+09  200000000.0   \n",
       "4361                                  The Avengers  1.519558e+09  220000000.0   \n",
       "0                                   Jurassic World  1.513529e+09  150000000.0   \n",
       "4                                        Furious 7  1.506249e+09  190000000.0   \n",
       "14                         Avengers: Age of Ultron  1.405036e+09  280000000.0   \n",
       "3374  Harry Potter and the Deathly Hallows: Part 2  1.327818e+09  125000000.0   \n",
       "5422                                        Frozen  1.274219e+09  150000000.0   \n",
       "5425                                    Iron Man 3  1.215440e+09  200000000.0   \n",
       "\n",
       "      popularity                                     genres  release_year  \\\n",
       "1386    9.432768   Action|Adventure|Fantasy|Science Fiction          2009   \n",
       "3      11.173104   Action|Adventure|Science Fiction|Fantasy          2015   \n",
       "5231    4.355219                     Drama|Romance|Thriller          1997   \n",
       "4361    7.637767           Science Fiction|Action|Adventure          2012   \n",
       "0      32.985763  Action|Adventure|Science Fiction|Thriller          2015   \n",
       "4       9.335014                      Action|Crime|Thriller          2015   \n",
       "14      5.944927           Action|Adventure|Science Fiction          2015   \n",
       "3374    5.711315                   Adventure|Family|Fantasy          2011   \n",
       "5422    6.112766                 Animation|Adventure|Family          2013   \n",
       "5425    4.946136           Action|Adventure|Science Fiction          2013   \n",
       "\n",
       "                     director  \\\n",
       "1386            James Cameron   \n",
       "3                 J.J. Abrams   \n",
       "5231            James Cameron   \n",
       "4361              Joss Whedon   \n",
       "0             Colin Trevorrow   \n",
       "4                   James Wan   \n",
       "14                Joss Whedon   \n",
       "3374              David Yates   \n",
       "5422  Chris Buck|Jennifer Lee   \n",
       "5425              Shane Black   \n",
       "\n",
       "                                   production_companies  \n",
       "1386  Ingenious Film Partners|Twentieth Century Fox ...  \n",
       "3             Lucasfilm|Truenorth Productions|Bad Robot  \n",
       "5231  Paramount Pictures|Twentieth Century Fox Film ...  \n",
       "4361                                     Marvel Studios  \n",
       "0     Universal Studios|Amblin Entertainment|Legenda...  \n",
       "4     Universal Pictures|Original Film|Media Rights ...  \n",
       "14    Marvel Studios|Prime Focus|Revolution Sun Studios  \n",
       "3374  Warner Bros.|Heyday Films|Moving Picture Compa...  \n",
       "5422  Walt Disney Pictures|Walt Disney Animation Stu...  \n",
       "5425                                     Marvel Studios  "
      ]
     },
     "execution_count": 25,
     "metadata": {},
     "output_type": "execute_result"
    }
   ],
   "source": [
    "df.loc[df['revenue'].nlargest(10).keys(),['original_title', 'revenue', 'budget', 'popularity', 'genres', 'release_year', 'director', 'production_companies']]"
   ]
  },
  {
   "cell_type": "markdown",
   "metadata": {},
   "source": [
    "<a id='q4'></a>\n",
    "### Which movies have the biggest budget?"
   ]
  },
  {
   "cell_type": "code",
   "execution_count": 26,
   "metadata": {},
   "outputs": [
    {
     "data": {
      "text/html": [
       "<div>\n",
       "<style scoped>\n",
       "    .dataframe tbody tr th:only-of-type {\n",
       "        vertical-align: middle;\n",
       "    }\n",
       "\n",
       "    .dataframe tbody tr th {\n",
       "        vertical-align: top;\n",
       "    }\n",
       "\n",
       "    .dataframe thead th {\n",
       "        text-align: right;\n",
       "    }\n",
       "</style>\n",
       "<table border=\"1\" class=\"dataframe\">\n",
       "  <thead>\n",
       "    <tr style=\"text-align: right;\">\n",
       "      <th></th>\n",
       "      <th>original_title</th>\n",
       "      <th>revenue</th>\n",
       "      <th>budget</th>\n",
       "      <th>popularity</th>\n",
       "      <th>genres</th>\n",
       "      <th>release_year</th>\n",
       "      <th>director</th>\n",
       "      <th>production_companies</th>\n",
       "    </tr>\n",
       "  </thead>\n",
       "  <tbody>\n",
       "    <tr>\n",
       "      <th>2244</th>\n",
       "      <td>The Warrior's Way</td>\n",
       "      <td>1.108757e+07</td>\n",
       "      <td>425000000.0</td>\n",
       "      <td>0.250540</td>\n",
       "      <td>Adventure|Fantasy|Action|Western|Thriller</td>\n",
       "      <td>2010</td>\n",
       "      <td>Sngmoo Lee</td>\n",
       "      <td>Boram Entertainment Inc.</td>\n",
       "    </tr>\n",
       "    <tr>\n",
       "      <th>3375</th>\n",
       "      <td>Pirates of the Caribbean: On Stranger Tides</td>\n",
       "      <td>1.021683e+09</td>\n",
       "      <td>380000000.0</td>\n",
       "      <td>4.955130</td>\n",
       "      <td>Adventure|Action|Fantasy</td>\n",
       "      <td>2011</td>\n",
       "      <td>Rob Marshall</td>\n",
       "      <td>Walt Disney Pictures|Jerry Bruckheimer Films|M...</td>\n",
       "    </tr>\n",
       "    <tr>\n",
       "      <th>7387</th>\n",
       "      <td>Pirates of the Caribbean: At World's End</td>\n",
       "      <td>9.610000e+08</td>\n",
       "      <td>300000000.0</td>\n",
       "      <td>4.965391</td>\n",
       "      <td>Adventure|Fantasy|Action</td>\n",
       "      <td>2007</td>\n",
       "      <td>Gore Verbinski</td>\n",
       "      <td>Walt Disney Pictures|Jerry Bruckheimer Films|S...</td>\n",
       "    </tr>\n",
       "    <tr>\n",
       "      <th>14</th>\n",
       "      <td>Avengers: Age of Ultron</td>\n",
       "      <td>1.405036e+09</td>\n",
       "      <td>280000000.0</td>\n",
       "      <td>5.944927</td>\n",
       "      <td>Action|Adventure|Science Fiction</td>\n",
       "      <td>2015</td>\n",
       "      <td>Joss Whedon</td>\n",
       "      <td>Marvel Studios|Prime Focus|Revolution Sun Studios</td>\n",
       "    </tr>\n",
       "    <tr>\n",
       "      <th>6570</th>\n",
       "      <td>Superman Returns</td>\n",
       "      <td>3.910812e+08</td>\n",
       "      <td>270000000.0</td>\n",
       "      <td>1.957331</td>\n",
       "      <td>Adventure|Fantasy|Action|Science Fiction</td>\n",
       "      <td>2006</td>\n",
       "      <td>Bryan Singer</td>\n",
       "      <td>DC Comics|Legendary Pictures|Warner Bros.|Bad ...</td>\n",
       "    </tr>\n",
       "    <tr>\n",
       "      <th>1929</th>\n",
       "      <td>Tangled</td>\n",
       "      <td>5.917949e+08</td>\n",
       "      <td>260000000.0</td>\n",
       "      <td>2.865684</td>\n",
       "      <td>Animation|Family</td>\n",
       "      <td>2010</td>\n",
       "      <td>Nathan Greno|Byron Howard</td>\n",
       "      <td>Walt Disney Pictures|Walt Disney Animation Stu...</td>\n",
       "    </tr>\n",
       "    <tr>\n",
       "      <th>4411</th>\n",
       "      <td>John Carter</td>\n",
       "      <td>2.841391e+08</td>\n",
       "      <td>260000000.0</td>\n",
       "      <td>1.588457</td>\n",
       "      <td>Action|Adventure|Fantasy|Science Fiction</td>\n",
       "      <td>2012</td>\n",
       "      <td>Andrew Stanton</td>\n",
       "      <td>Walt Disney Pictures</td>\n",
       "    </tr>\n",
       "    <tr>\n",
       "      <th>7394</th>\n",
       "      <td>Spider-Man 3</td>\n",
       "      <td>8.908716e+08</td>\n",
       "      <td>258000000.0</td>\n",
       "      <td>2.520912</td>\n",
       "      <td>Fantasy|Action|Adventure</td>\n",
       "      <td>2007</td>\n",
       "      <td>Sam Raimi</td>\n",
       "      <td>Columbia Pictures|Laura Ziskin Productions|Mar...</td>\n",
       "    </tr>\n",
       "    <tr>\n",
       "      <th>5508</th>\n",
       "      <td>The Lone Ranger</td>\n",
       "      <td>8.928991e+07</td>\n",
       "      <td>255000000.0</td>\n",
       "      <td>1.214510</td>\n",
       "      <td>Action|Adventure|Western</td>\n",
       "      <td>2013</td>\n",
       "      <td>Gore Verbinski</td>\n",
       "      <td>Walt Disney Pictures|Jerry Bruckheimer Films|I...</td>\n",
       "    </tr>\n",
       "    <tr>\n",
       "      <th>634</th>\n",
       "      <td>The Hobbit: The Battle of the Five Armies</td>\n",
       "      <td>9.551198e+08</td>\n",
       "      <td>250000000.0</td>\n",
       "      <td>10.174599</td>\n",
       "      <td>Adventure|Fantasy</td>\n",
       "      <td>2014</td>\n",
       "      <td>Peter Jackson</td>\n",
       "      <td>WingNut Films|New Line Cinema|3Foot7|Metro-Gol...</td>\n",
       "    </tr>\n",
       "  </tbody>\n",
       "</table>\n",
       "</div>"
      ],
      "text/plain": [
       "                                   original_title       revenue       budget  \\\n",
       "2244                            The Warrior's Way  1.108757e+07  425000000.0   \n",
       "3375  Pirates of the Caribbean: On Stranger Tides  1.021683e+09  380000000.0   \n",
       "7387     Pirates of the Caribbean: At World's End  9.610000e+08  300000000.0   \n",
       "14                        Avengers: Age of Ultron  1.405036e+09  280000000.0   \n",
       "6570                             Superman Returns  3.910812e+08  270000000.0   \n",
       "1929                                      Tangled  5.917949e+08  260000000.0   \n",
       "4411                                  John Carter  2.841391e+08  260000000.0   \n",
       "7394                                 Spider-Man 3  8.908716e+08  258000000.0   \n",
       "5508                              The Lone Ranger  8.928991e+07  255000000.0   \n",
       "634     The Hobbit: The Battle of the Five Armies  9.551198e+08  250000000.0   \n",
       "\n",
       "      popularity                                     genres  release_year  \\\n",
       "2244    0.250540  Adventure|Fantasy|Action|Western|Thriller          2010   \n",
       "3375    4.955130                   Adventure|Action|Fantasy          2011   \n",
       "7387    4.965391                   Adventure|Fantasy|Action          2007   \n",
       "14      5.944927           Action|Adventure|Science Fiction          2015   \n",
       "6570    1.957331   Adventure|Fantasy|Action|Science Fiction          2006   \n",
       "1929    2.865684                           Animation|Family          2010   \n",
       "4411    1.588457   Action|Adventure|Fantasy|Science Fiction          2012   \n",
       "7394    2.520912                   Fantasy|Action|Adventure          2007   \n",
       "5508    1.214510                   Action|Adventure|Western          2013   \n",
       "634    10.174599                          Adventure|Fantasy          2014   \n",
       "\n",
       "                       director  \\\n",
       "2244                 Sngmoo Lee   \n",
       "3375               Rob Marshall   \n",
       "7387             Gore Verbinski   \n",
       "14                  Joss Whedon   \n",
       "6570               Bryan Singer   \n",
       "1929  Nathan Greno|Byron Howard   \n",
       "4411             Andrew Stanton   \n",
       "7394                  Sam Raimi   \n",
       "5508             Gore Verbinski   \n",
       "634               Peter Jackson   \n",
       "\n",
       "                                   production_companies  \n",
       "2244                           Boram Entertainment Inc.  \n",
       "3375  Walt Disney Pictures|Jerry Bruckheimer Films|M...  \n",
       "7387  Walt Disney Pictures|Jerry Bruckheimer Films|S...  \n",
       "14    Marvel Studios|Prime Focus|Revolution Sun Studios  \n",
       "6570  DC Comics|Legendary Pictures|Warner Bros.|Bad ...  \n",
       "1929  Walt Disney Pictures|Walt Disney Animation Stu...  \n",
       "4411                               Walt Disney Pictures  \n",
       "7394  Columbia Pictures|Laura Ziskin Productions|Mar...  \n",
       "5508  Walt Disney Pictures|Jerry Bruckheimer Films|I...  \n",
       "634   WingNut Films|New Line Cinema|3Foot7|Metro-Gol...  "
      ]
     },
     "execution_count": 26,
     "metadata": {},
     "output_type": "execute_result"
    }
   ],
   "source": [
    "df.loc[df['budget'].nlargest(10).keys(),['original_title', 'revenue', 'budget', 'popularity', 'genres', 'release_year', 'director', 'production_companies']]"
   ]
  },
  {
   "cell_type": "markdown",
   "metadata": {},
   "source": [
    "<a id='q5'></a>\n",
    "### Who are the most successful directors? Who made the most movies?\n",
    "In the next cell, I will show the directors that directed the most successful movies"
   ]
  },
  {
   "cell_type": "code",
   "execution_count": 27,
   "metadata": {},
   "outputs": [
    {
     "data": {
      "text/html": [
       "<div>\n",
       "<style scoped>\n",
       "    .dataframe tbody tr th:only-of-type {\n",
       "        vertical-align: middle;\n",
       "    }\n",
       "\n",
       "    .dataframe tbody tr th {\n",
       "        vertical-align: top;\n",
       "    }\n",
       "\n",
       "    .dataframe thead th {\n",
       "        text-align: right;\n",
       "    }\n",
       "</style>\n",
       "<table border=\"1\" class=\"dataframe\">\n",
       "  <thead>\n",
       "    <tr style=\"text-align: right;\">\n",
       "      <th></th>\n",
       "      <th>number of movies</th>\n",
       "      <th>popularity</th>\n",
       "      <th>revenue</th>\n",
       "      <th>budget</th>\n",
       "    </tr>\n",
       "    <tr>\n",
       "      <th>director</th>\n",
       "      <th></th>\n",
       "      <th></th>\n",
       "      <th></th>\n",
       "      <th></th>\n",
       "    </tr>\n",
       "  </thead>\n",
       "  <tbody>\n",
       "    <tr>\n",
       "      <th>Colin Trevorrow</th>\n",
       "      <td>2</td>\n",
       "      <td>32.985763</td>\n",
       "      <td>1.513529e+09</td>\n",
       "      <td>150000000.0</td>\n",
       "    </tr>\n",
       "    <tr>\n",
       "      <th>George Miller</th>\n",
       "      <td>8</td>\n",
       "      <td>28.419936</td>\n",
       "      <td>3.843356e+08</td>\n",
       "      <td>150000000.0</td>\n",
       "    </tr>\n",
       "    <tr>\n",
       "      <th>Christopher Nolan</th>\n",
       "      <td>10</td>\n",
       "      <td>24.949134</td>\n",
       "      <td>1.081041e+09</td>\n",
       "      <td>250000000.0</td>\n",
       "    </tr>\n",
       "    <tr>\n",
       "      <th>James Gunn</th>\n",
       "      <td>3</td>\n",
       "      <td>14.311205</td>\n",
       "      <td>7.733124e+08</td>\n",
       "      <td>170000000.0</td>\n",
       "    </tr>\n",
       "    <tr>\n",
       "      <th>Robert Schwentke</th>\n",
       "      <td>5</td>\n",
       "      <td>13.112507</td>\n",
       "      <td>2.952382e+08</td>\n",
       "      <td>130000000.0</td>\n",
       "    </tr>\n",
       "    <tr>\n",
       "      <th>Joe Russo|Anthony Russo</th>\n",
       "      <td>1</td>\n",
       "      <td>12.971027</td>\n",
       "      <td>7.147666e+08</td>\n",
       "      <td>170000000.0</td>\n",
       "    </tr>\n",
       "    <tr>\n",
       "      <th>George Lucas</th>\n",
       "      <td>6</td>\n",
       "      <td>12.037933</td>\n",
       "      <td>9.243176e+08</td>\n",
       "      <td>120000000.0</td>\n",
       "    </tr>\n",
       "    <tr>\n",
       "      <th>Chad Stahelski|David Leitch</th>\n",
       "      <td>1</td>\n",
       "      <td>11.422751</td>\n",
       "      <td>7.873990e+07</td>\n",
       "      <td>20000000.0</td>\n",
       "    </tr>\n",
       "    <tr>\n",
       "      <th>J.J. Abrams</th>\n",
       "      <td>5</td>\n",
       "      <td>11.173104</td>\n",
       "      <td>2.068178e+09</td>\n",
       "      <td>200000000.0</td>\n",
       "    </tr>\n",
       "    <tr>\n",
       "      <th>Francis Lawrence</th>\n",
       "      <td>6</td>\n",
       "      <td>10.739009</td>\n",
       "      <td>8.474235e+08</td>\n",
       "      <td>160000000.0</td>\n",
       "    </tr>\n",
       "    <tr>\n",
       "      <th>Peter Jackson</th>\n",
       "      <td>13</td>\n",
       "      <td>10.174599</td>\n",
       "      <td>1.118889e+09</td>\n",
       "      <td>250000000.0</td>\n",
       "    </tr>\n",
       "    <tr>\n",
       "      <th>James Cameron</th>\n",
       "      <td>9</td>\n",
       "      <td>9.432768</td>\n",
       "      <td>2.781506e+09</td>\n",
       "      <td>237000000.0</td>\n",
       "    </tr>\n",
       "  </tbody>\n",
       "</table>\n",
       "</div>"
      ],
      "text/plain": [
       "                             number of movies  popularity       revenue  \\\n",
       "director                                                                  \n",
       "Colin Trevorrow                             2   32.985763  1.513529e+09   \n",
       "George Miller                               8   28.419936  3.843356e+08   \n",
       "Christopher Nolan                          10   24.949134  1.081041e+09   \n",
       "James Gunn                                  3   14.311205  7.733124e+08   \n",
       "Robert Schwentke                            5   13.112507  2.952382e+08   \n",
       "Joe Russo|Anthony Russo                     1   12.971027  7.147666e+08   \n",
       "George Lucas                                6   12.037933  9.243176e+08   \n",
       "Chad Stahelski|David Leitch                 1   11.422751  7.873990e+07   \n",
       "J.J. Abrams                                 5   11.173104  2.068178e+09   \n",
       "Francis Lawrence                            6   10.739009  8.474235e+08   \n",
       "Peter Jackson                              13   10.174599  1.118889e+09   \n",
       "James Cameron                               9    9.432768  2.781506e+09   \n",
       "\n",
       "                                  budget  \n",
       "director                                  \n",
       "Colin Trevorrow              150000000.0  \n",
       "George Miller                150000000.0  \n",
       "Christopher Nolan            250000000.0  \n",
       "James Gunn                   170000000.0  \n",
       "Robert Schwentke             130000000.0  \n",
       "Joe Russo|Anthony Russo      170000000.0  \n",
       "George Lucas                 120000000.0  \n",
       "Chad Stahelski|David Leitch   20000000.0  \n",
       "J.J. Abrams                  200000000.0  \n",
       "Francis Lawrence             160000000.0  \n",
       "Peter Jackson                250000000.0  \n",
       "James Cameron                237000000.0  "
      ]
     },
     "execution_count": 27,
     "metadata": {},
     "output_type": "execute_result"
    }
   ],
   "source": [
    "director_df = df.groupby('director').agg({'director':'count', 'popularity':'max', 'revenue':'max', 'budget':'max'})\n",
    "director_df.rename(columns={'director':'number of movies'}, inplace=True)\n",
    "director_df.loc[director_df['popularity'].nlargest(12).keys(), :]"
   ]
  },
  {
   "cell_type": "code",
   "execution_count": 28,
   "metadata": {},
   "outputs": [
    {
     "data": {
      "text/plain": [
       "0              Jurassic World\n",
       "4604    Safety Not Guaranteed\n",
       "Name: original_title, dtype: object"
      ]
     },
     "execution_count": 28,
     "metadata": {},
     "output_type": "execute_result"
    }
   ],
   "source": [
    "df[df['director']=='Colin Trevorrow']['original_title']"
   ]
  },
  {
   "cell_type": "markdown",
   "metadata": {},
   "source": [
    "Next, I will show the directors that directed the most number of movies"
   ]
  },
  {
   "cell_type": "code",
   "execution_count": 29,
   "metadata": {},
   "outputs": [
    {
     "data": {
      "text/html": [
       "<div>\n",
       "<style scoped>\n",
       "    .dataframe tbody tr th:only-of-type {\n",
       "        vertical-align: middle;\n",
       "    }\n",
       "\n",
       "    .dataframe tbody tr th {\n",
       "        vertical-align: top;\n",
       "    }\n",
       "\n",
       "    .dataframe thead th {\n",
       "        text-align: right;\n",
       "    }\n",
       "</style>\n",
       "<table border=\"1\" class=\"dataframe\">\n",
       "  <thead>\n",
       "    <tr style=\"text-align: right;\">\n",
       "      <th></th>\n",
       "      <th>number of movies</th>\n",
       "      <th>popularity</th>\n",
       "      <th>revenue</th>\n",
       "      <th>budget</th>\n",
       "    </tr>\n",
       "    <tr>\n",
       "      <th>director</th>\n",
       "      <th></th>\n",
       "      <th></th>\n",
       "      <th></th>\n",
       "      <th></th>\n",
       "    </tr>\n",
       "  </thead>\n",
       "  <tbody>\n",
       "    <tr>\n",
       "      <th>Woody Allen</th>\n",
       "      <td>45</td>\n",
       "      <td>1.367727</td>\n",
       "      <td>1.511192e+08</td>\n",
       "      <td>4.095764e+07</td>\n",
       "    </tr>\n",
       "    <tr>\n",
       "      <th>Clint Eastwood</th>\n",
       "      <td>34</td>\n",
       "      <td>3.863074</td>\n",
       "      <td>5.423074e+08</td>\n",
       "      <td>9.000000e+07</td>\n",
       "    </tr>\n",
       "    <tr>\n",
       "      <th>Martin Scorsese</th>\n",
       "      <td>29</td>\n",
       "      <td>4.877927</td>\n",
       "      <td>3.920007e+08</td>\n",
       "      <td>1.700000e+08</td>\n",
       "    </tr>\n",
       "    <tr>\n",
       "      <th>Steven Spielberg</th>\n",
       "      <td>29</td>\n",
       "      <td>4.578300</td>\n",
       "      <td>9.201000e+08</td>\n",
       "      <td>1.850000e+08</td>\n",
       "    </tr>\n",
       "    <tr>\n",
       "      <th>Ridley Scott</th>\n",
       "      <td>23</td>\n",
       "      <td>7.667400</td>\n",
       "      <td>5.953803e+08</td>\n",
       "      <td>2.000000e+08</td>\n",
       "    </tr>\n",
       "    <tr>\n",
       "      <th>Ron Howard</th>\n",
       "      <td>22</td>\n",
       "      <td>3.655536</td>\n",
       "      <td>7.582399e+08</td>\n",
       "      <td>1.500000e+08</td>\n",
       "    </tr>\n",
       "    <tr>\n",
       "      <th>Steven Soderbergh</th>\n",
       "      <td>22</td>\n",
       "      <td>2.642249</td>\n",
       "      <td>4.507172e+08</td>\n",
       "      <td>1.100000e+08</td>\n",
       "    </tr>\n",
       "    <tr>\n",
       "      <th>Joel Schumacher</th>\n",
       "      <td>21</td>\n",
       "      <td>2.604799</td>\n",
       "      <td>3.365291e+08</td>\n",
       "      <td>1.250000e+08</td>\n",
       "    </tr>\n",
       "    <tr>\n",
       "      <th>Brian De Palma</th>\n",
       "      <td>20</td>\n",
       "      <td>3.293387</td>\n",
       "      <td>4.576964e+08</td>\n",
       "      <td>9.000000e+07</td>\n",
       "    </tr>\n",
       "    <tr>\n",
       "      <th>Barry Levinson</th>\n",
       "      <td>19</td>\n",
       "      <td>1.459821</td>\n",
       "      <td>3.548254e+08</td>\n",
       "      <td>7.500000e+07</td>\n",
       "    </tr>\n",
       "    <tr>\n",
       "      <th>Tim Burton</th>\n",
       "      <td>19</td>\n",
       "      <td>5.572950</td>\n",
       "      <td>1.025467e+09</td>\n",
       "      <td>2.000000e+08</td>\n",
       "    </tr>\n",
       "    <tr>\n",
       "      <th>Wes Craven</th>\n",
       "      <td>19</td>\n",
       "      <td>1.331432</td>\n",
       "      <td>1.730467e+08</td>\n",
       "      <td>4.000000e+07</td>\n",
       "    </tr>\n",
       "  </tbody>\n",
       "</table>\n",
       "</div>"
      ],
      "text/plain": [
       "                   number of movies  popularity       revenue        budget\n",
       "director                                                                   \n",
       "Woody Allen                      45    1.367727  1.511192e+08  4.095764e+07\n",
       "Clint Eastwood                   34    3.863074  5.423074e+08  9.000000e+07\n",
       "Martin Scorsese                  29    4.877927  3.920007e+08  1.700000e+08\n",
       "Steven Spielberg                 29    4.578300  9.201000e+08  1.850000e+08\n",
       "Ridley Scott                     23    7.667400  5.953803e+08  2.000000e+08\n",
       "Ron Howard                       22    3.655536  7.582399e+08  1.500000e+08\n",
       "Steven Soderbergh                22    2.642249  4.507172e+08  1.100000e+08\n",
       "Joel Schumacher                  21    2.604799  3.365291e+08  1.250000e+08\n",
       "Brian De Palma                   20    3.293387  4.576964e+08  9.000000e+07\n",
       "Barry Levinson                   19    1.459821  3.548254e+08  7.500000e+07\n",
       "Tim Burton                       19    5.572950  1.025467e+09  2.000000e+08\n",
       "Wes Craven                       19    1.331432  1.730467e+08  4.000000e+07"
      ]
     },
     "execution_count": 29,
     "metadata": {},
     "output_type": "execute_result"
    }
   ],
   "source": [
    "director_df.loc[director_df['number of movies'].nlargest(12).keys(), :]"
   ]
  },
  {
   "cell_type": "markdown",
   "metadata": {},
   "source": [
    "<a id='q6'></a>\n",
    "### What is the ideal movie length?"
   ]
  },
  {
   "cell_type": "code",
   "execution_count": 30,
   "metadata": {},
   "outputs": [
    {
     "data": {
      "text/html": [
       "<div>\n",
       "<style scoped>\n",
       "    .dataframe tbody tr th:only-of-type {\n",
       "        vertical-align: middle;\n",
       "    }\n",
       "\n",
       "    .dataframe tbody tr th {\n",
       "        vertical-align: top;\n",
       "    }\n",
       "\n",
       "    .dataframe thead th {\n",
       "        text-align: right;\n",
       "    }\n",
       "</style>\n",
       "<table border=\"1\" class=\"dataframe\">\n",
       "  <thead>\n",
       "    <tr style=\"text-align: right;\">\n",
       "      <th></th>\n",
       "      <th>original_title</th>\n",
       "      <th>popularity</th>\n",
       "      <th>runtime</th>\n",
       "    </tr>\n",
       "  </thead>\n",
       "  <tbody>\n",
       "    <tr>\n",
       "      <th>0</th>\n",
       "      <td>Jurassic World</td>\n",
       "      <td>32.985763</td>\n",
       "      <td>124</td>\n",
       "    </tr>\n",
       "    <tr>\n",
       "      <th>1</th>\n",
       "      <td>Mad Max: Fury Road</td>\n",
       "      <td>28.419936</td>\n",
       "      <td>120</td>\n",
       "    </tr>\n",
       "    <tr>\n",
       "      <th>629</th>\n",
       "      <td>Interstellar</td>\n",
       "      <td>24.949134</td>\n",
       "      <td>169</td>\n",
       "    </tr>\n",
       "    <tr>\n",
       "      <th>630</th>\n",
       "      <td>Guardians of the Galaxy</td>\n",
       "      <td>14.311205</td>\n",
       "      <td>121</td>\n",
       "    </tr>\n",
       "    <tr>\n",
       "      <th>2</th>\n",
       "      <td>Insurgent</td>\n",
       "      <td>13.112507</td>\n",
       "      <td>119</td>\n",
       "    </tr>\n",
       "    <tr>\n",
       "      <th>631</th>\n",
       "      <td>Captain America: The Winter Soldier</td>\n",
       "      <td>12.971027</td>\n",
       "      <td>136</td>\n",
       "    </tr>\n",
       "    <tr>\n",
       "      <th>1329</th>\n",
       "      <td>Star Wars</td>\n",
       "      <td>12.037933</td>\n",
       "      <td>121</td>\n",
       "    </tr>\n",
       "    <tr>\n",
       "      <th>632</th>\n",
       "      <td>John Wick</td>\n",
       "      <td>11.422751</td>\n",
       "      <td>101</td>\n",
       "    </tr>\n",
       "    <tr>\n",
       "      <th>3</th>\n",
       "      <td>Star Wars: The Force Awakens</td>\n",
       "      <td>11.173104</td>\n",
       "      <td>136</td>\n",
       "    </tr>\n",
       "    <tr>\n",
       "      <th>633</th>\n",
       "      <td>The Hunger Games: Mockingjay - Part 1</td>\n",
       "      <td>10.739009</td>\n",
       "      <td>123</td>\n",
       "    </tr>\n",
       "    <tr>\n",
       "      <th>634</th>\n",
       "      <td>The Hobbit: The Battle of the Five Armies</td>\n",
       "      <td>10.174599</td>\n",
       "      <td>144</td>\n",
       "    </tr>\n",
       "    <tr>\n",
       "      <th>1386</th>\n",
       "      <td>Avatar</td>\n",
       "      <td>9.432768</td>\n",
       "      <td>162</td>\n",
       "    </tr>\n",
       "    <tr>\n",
       "      <th>1919</th>\n",
       "      <td>Inception</td>\n",
       "      <td>9.363643</td>\n",
       "      <td>148</td>\n",
       "    </tr>\n",
       "    <tr>\n",
       "      <th>4</th>\n",
       "      <td>Furious 7</td>\n",
       "      <td>9.335014</td>\n",
       "      <td>137</td>\n",
       "    </tr>\n",
       "    <tr>\n",
       "      <th>5</th>\n",
       "      <td>The Revenant</td>\n",
       "      <td>9.110700</td>\n",
       "      <td>156</td>\n",
       "    </tr>\n",
       "    <tr>\n",
       "      <th>2409</th>\n",
       "      <td>Fight Club</td>\n",
       "      <td>8.947905</td>\n",
       "      <td>139</td>\n",
       "    </tr>\n",
       "    <tr>\n",
       "      <th>635</th>\n",
       "      <td>Big Hero 6</td>\n",
       "      <td>8.691294</td>\n",
       "      <td>102</td>\n",
       "    </tr>\n",
       "    <tr>\n",
       "      <th>6</th>\n",
       "      <td>Terminator Genisys</td>\n",
       "      <td>8.654359</td>\n",
       "      <td>125</td>\n",
       "    </tr>\n",
       "    <tr>\n",
       "      <th>2633</th>\n",
       "      <td>The Lord of the Rings: The Fellowship of the Ring</td>\n",
       "      <td>8.575419</td>\n",
       "      <td>178</td>\n",
       "    </tr>\n",
       "    <tr>\n",
       "      <th>2875</th>\n",
       "      <td>The Dark Knight</td>\n",
       "      <td>8.466668</td>\n",
       "      <td>152</td>\n",
       "    </tr>\n",
       "  </tbody>\n",
       "</table>\n",
       "</div>"
      ],
      "text/plain": [
       "                                         original_title  popularity  runtime\n",
       "0                                        Jurassic World   32.985763      124\n",
       "1                                    Mad Max: Fury Road   28.419936      120\n",
       "629                                        Interstellar   24.949134      169\n",
       "630                             Guardians of the Galaxy   14.311205      121\n",
       "2                                             Insurgent   13.112507      119\n",
       "631                 Captain America: The Winter Soldier   12.971027      136\n",
       "1329                                          Star Wars   12.037933      121\n",
       "632                                           John Wick   11.422751      101\n",
       "3                          Star Wars: The Force Awakens   11.173104      136\n",
       "633               The Hunger Games: Mockingjay - Part 1   10.739009      123\n",
       "634           The Hobbit: The Battle of the Five Armies   10.174599      144\n",
       "1386                                             Avatar    9.432768      162\n",
       "1919                                          Inception    9.363643      148\n",
       "4                                             Furious 7    9.335014      137\n",
       "5                                          The Revenant    9.110700      156\n",
       "2409                                         Fight Club    8.947905      139\n",
       "635                                          Big Hero 6    8.691294      102\n",
       "6                                    Terminator Genisys    8.654359      125\n",
       "2633  The Lord of the Rings: The Fellowship of the Ring    8.575419      178\n",
       "2875                                    The Dark Knight    8.466668      152"
      ]
     },
     "execution_count": 30,
     "metadata": {},
     "output_type": "execute_result"
    }
   ],
   "source": [
    "df.loc[df['popularity'].nlargest(20).keys(),['original_title', 'popularity', 'runtime']]"
   ]
  },
  {
   "cell_type": "code",
   "execution_count": 31,
   "metadata": {},
   "outputs": [
    {
     "data": {
      "text/plain": [
       "136.0"
      ]
     },
     "execution_count": 31,
     "metadata": {},
     "output_type": "execute_result"
    }
   ],
   "source": [
    "# median movie length for top 20 movies\n",
    "df.loc[df['popularity'].nlargest(20).keys(),['original_title', 'popularity', 'runtime']]['runtime'].median()"
   ]
  },
  {
   "cell_type": "code",
   "execution_count": 32,
   "metadata": {},
   "outputs": [
    {
     "data": {
      "text/plain": [
       "99.0"
      ]
     },
     "execution_count": 32,
     "metadata": {},
     "output_type": "execute_result"
    }
   ],
   "source": [
    "# median movie length for all movies\n",
    "df['runtime'].median()"
   ]
  },
  {
   "cell_type": "markdown",
   "metadata": {},
   "source": [
    "We can see from the above cells that people tend to like long movies (around two hours)."
   ]
  },
  {
   "cell_type": "markdown",
   "metadata": {},
   "source": [
    "<a id='q7'></a>\n",
    "### What are the most common genres?"
   ]
  },
  {
   "cell_type": "code",
   "execution_count": 33,
   "metadata": {},
   "outputs": [],
   "source": [
    "def find_genres(df, count):\n",
    "    \"\"\"\n",
    "    df: (dataframe) the dataframe with the data\n",
    "    count: (dict) the count\n",
    "    \"\"\"\n",
    "    movie_genres = df['genres'].str.split('|').values\n",
    "    for movie_genre in movie_genres:\n",
    "        for genre in movie_genre:\n",
    "            count[genre] = count.get(genre, 0) + 1"
   ]
  },
  {
   "cell_type": "code",
   "execution_count": 34,
   "metadata": {},
   "outputs": [
    {
     "data": {
      "image/png": "[encoded data removed]",
      "text/plain": [
       "<Figure size 864x864 with 1 Axes>"
      ]
     },
     "metadata": {},
     "output_type": "display_data"
    }
   ],
   "source": [
    "count = {}\n",
    "find_genres(df, count)\n",
    "# sorting the genres in descending order\n",
    "count = sorted(count.items(), key = lambda x: x[1], reverse=True)\n",
    "count = dict(count)\n",
    "# plotting the results\n",
    "plt.figure(figsize=(12,12))\n",
    "plt.pie(count.values(), labels=count.keys())\n",
    "plt.title('Percentages of movie genres since 1960')\n",
    "plt.show()"
   ]
  },
  {
   "cell_type": "markdown",
   "metadata": {},
   "source": [
    "from the above pie chart, we notice that Drame and Comedy are the most common genres. Western is the least produced genre.\n",
    "<a id='q8'></a>\n",
    "### How many movies did each production company make?"
   ]
  },
  {
   "cell_type": "code",
   "execution_count": 35,
   "metadata": {},
   "outputs": [],
   "source": [
    "def count_prod_companies(df, count):\n",
    "    \"\"\"\n",
    "    df: (dataframe) the dataframe with the data\n",
    "    count: (dict) the count\n",
    "    \"\"\"\n",
    "    prod_companies = df['production_companies'].str.split('|').values\n",
    "    for prod_com in prod_companies:\n",
    "        for prod_c in prod_com:\n",
    "            count[prod_c] = count.get(prod_c, 0) + 1"
   ]
  },
  {
   "cell_type": "code",
   "execution_count": 36,
   "metadata": {},
   "outputs": [
    {
     "data": {
      "image/png": "[encoded data removed]",
      "text/plain": [
       "<Figure size 864x864 with 1 Axes>"
      ]
     },
     "metadata": {},
     "output_type": "display_data"
    }
   ],
   "source": [
    "count = {}\n",
    "count_prod_companies(df, count)\n",
    "# Columbia Pictures is written as \"Columbia Pictures\" and \"Columbia Pictures Corporation\"\n",
    "# We solve this unconsistency in the following two lines of code\n",
    "count['Columbia Pictures'] = count['Columbia Pictures'] + count['Columbia Pictures Corporation']\n",
    "del count['Columbia Pictures Corporation']\n",
    "# sorting the results\n",
    "count = sorted(count.items(), key = lambda x: x[1], reverse=True)\n",
    "count = dict(count)\n",
    "total = np.array(list(count.values())[2:12]).sum()\n",
    "# plotting the results\n",
    "plt.figure(figsize=(12,12))\n",
    "plt.pie(list(count.values())[2:12], labels=list(count.keys())[2:12], autopct=lambda p: '{:.0f}'.format(p * total / 100))\n",
    "plt.title('Number of movies produced by each Production Company')\n",
    "plt.show()"
   ]
  },
  {
   "cell_type": "markdown",
   "metadata": {},
   "source": [
    "- We see that Universal Pictures and Warner Bros are dominating with over 500 movies each.\n",
    "- Paramount Pictures and Colombia Pictures comes after with about 432 and 431 movies respectively.\n",
    "- Twentieth Century Fox Film Corporation have almost 300 movies\n",
    "\n",
    "Now let's check the relationship between different variables. I will start by `revenue` against `budget` in the following:"
   ]
  },
  {
   "cell_type": "code",
   "execution_count": 37,
   "metadata": {},
   "outputs": [
    {
     "data": {
      "image/png": "[encoded data removed]",
      "text/plain": [
       "<Figure size 864x576 with 1 Axes>"
      ]
     },
     "metadata": {
      "needs_background": "light"
     },
     "output_type": "display_data"
    }
   ],
   "source": [
    "plt.figure(figsize=(12,8))\n",
    "plt.scatter(df['revenue'], df['budget'], alpha=0.2)\n",
    "plt.title('Revenue against budget')\n",
    "plt.xlabel('revenue')\n",
    "plt.ylabel('budget')\n",
    "plt.show()"
   ]
  },
  {
   "cell_type": "markdown",
   "metadata": {},
   "source": [
    "The relationship between `Revenue` and `Budget` looks somewhat linear but isn't that strong. In the next code cell I will verify the power of the linear relationship where 1 means strongest and 0 means no linear relationship."
   ]
  },
  {
   "cell_type": "code",
   "execution_count": 38,
   "metadata": {},
   "outputs": [
    {
     "data": {
      "text/plain": [
       "0.645008016976542"
      ]
     },
     "execution_count": 38,
     "metadata": {},
     "output_type": "execute_result"
    }
   ],
   "source": [
    "df[['revenue', 'budget']].corr().iloc[0,1]"
   ]
  },
  {
   "cell_type": "markdown",
   "metadata": {},
   "source": [
    "It is expected that popular movies will have more votes. Let's check whether there is a relationship between `vote_count` and `popularity`. "
   ]
  },
  {
   "cell_type": "code",
   "execution_count": 39,
   "metadata": {},
   "outputs": [
    {
     "data": {
      "text/plain": [
       "0.80078608712491"
      ]
     },
     "execution_count": 39,
     "metadata": {},
     "output_type": "execute_result"
    }
   ],
   "source": [
    "df[['vote_count', 'popularity']].corr().iloc[0,1]"
   ]
  },
  {
   "cell_type": "code",
   "execution_count": 40,
   "metadata": {},
   "outputs": [
    {
     "data": {
      "image/png": "[encoded data removed]",
      "text/plain": [
       "<Figure size 864x576 with 1 Axes>"
      ]
     },
     "metadata": {
      "needs_background": "light"
     },
     "output_type": "display_data"
    }
   ],
   "source": [
    "plt.figure(figsize=(12,8))\n",
    "plt.scatter(df['vote_count'], df['popularity'], alpha=0.2)\n",
    "plt.title('Vote Count against Popularity')\n",
    "plt.xlabel('vote count')\n",
    "plt.ylabel('popularity')\n",
    "plt.show()"
   ]
  },
  {
   "cell_type": "markdown",
   "metadata": {},
   "source": [
    "We observe a high linear relationship (0.8) between `vote_count` and `popularity` of the movie which is expected as the more popular the movie is, the more votes it will get."
   ]
  },
  {
   "cell_type": "markdown",
   "metadata": {},
   "source": [
    "<a id='conclusions'></a>\n",
    "## Conclusions"
   ]
  },
  {
   "cell_type": "markdown",
   "metadata": {},
   "source": [
    "- The number of movies directed every year increased exponentially since 1960 untill 2014. It is expected to rise more in the next years.\n",
    "- The top 5 movies `Jurassic World`, `Mad Max: Fury Road`, `Interstellar`, `Guardians of the Galaxy` and `Insurgent` are all released after 2014.\n",
    "- There are two movies that surpassed the 2 billion $ revenue that are `Avatar` and `Star Wars: The Force Awakens`.\n",
    "- `Colin Trevorrow` who directed `Jurassic World` surprisingly directed only one other movie that is `Safety Not Guaranteed`.\n",
    "- The director that released the most movies is `Woody Allen` with 45 movies.\n",
    "- Most popular movies tend to be long ones (over 2 hours).\n",
    "- In the last half decade, Drama and Comedy dominated the movie genres as the people's favorite.\n",
    "- Big production companies produced over 400 movies such as `Universal Pictures`, `Warner Bros`, `Paramount Pictures` and `Colombia Pictures`.\n",
    "- `revenue` and `budget` have some sort of a linear relationship. That is the more spent on a movie, the more revenue it is expected to generate.\n",
    "- There is a high linear relationship between `vote_count` and `popularity` which is understandable."
   ]
  },
  {
   "cell_type": "markdown",
   "metadata": {},
   "source": [
    "## Limitations\n",
    "- We included all the movie genres in the calculation although many movies have more than one genre assigned to it seperated by `|`.\n",
    "- `vote_count` & `vote_average` are not clear on how to find them and have no formula of calculation.\n",
    "- `budget` & `revenue` have a lot of 0's and are filled with the mean for that year for the current situation but this may not help us if we want to do any further analysis.\n",
    "- Overall the missing and 0 values are limiting any further analysis or complex inferential statistics."
   ]
  }
 ],
 "metadata": {
  "kernelspec": {
   "display_name": "Python 3",
   "language": "python",
   "name": "python3"
  },
  "language_info": {
   "codemirror_mode": {
    "name": "ipython",
    "version": 3
   },
   "file_extension": ".py",
   "mimetype": "text/x-python",
   "name": "python",
   "nbconvert_exporter": "python",
   "pygments_lexer": "ipython3",
   "version": "3.8.8"
  }
 },
 "nbformat": 4,
 "nbformat_minor": 2
}
